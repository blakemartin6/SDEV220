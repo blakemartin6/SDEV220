{
 "cells": [
  {
   "cell_type": "code",
   "execution_count": 3,
   "id": "114c7707",
   "metadata": {},
   "outputs": [
    {
     "name": "stdout",
     "output_type": "stream",
     "text": [
      "C:\\Users\\brmar\\OneDrive\\CODING\\SDEV 220\\Assignment\n"
     ]
    }
   ],
   "source": [
    "cd C:\\Users\\brmar\\OneDrive\\CODING\\SDEV 220\\Assignment"
   ]
  },
  {
   "cell_type": "code",
   "execution_count": 4,
   "id": "19421a62",
   "metadata": {},
   "outputs": [
    {
     "name": "stdout",
     "output_type": "stream",
     "text": [
      "09/27/2022 \n"
     ]
    }
   ],
   "source": [
    "today_string = open(\"today.txt\", \"r\")\n",
    "data = today_string.read()\n",
    "print(data)"
   ]
  },
  {
   "cell_type": "code",
   "execution_count": 8,
   "id": "968c9264",
   "metadata": {},
   "outputs": [
    {
     "name": "stdout",
     "output_type": "stream",
     "text": [
      "Today's date and time is 2022-10-03 18:41:59.178953\n",
      "Today's date and time is 2022-10-03 18:41:59.493952\n",
      "Today's date and time is 2022-10-03 18:41:59.545949\n",
      "Completed\n"
     ]
    }
   ],
   "source": [
    "import multiprocessing\n",
    "from datetime import datetime\n",
    "import time\n",
    "import random\n",
    "\n",
    "\n",
    "def print_time():\n",
    "    now = datetime.now()\n",
    "    print(\"Today's date and time is {}\".format(now))\n",
    "    time.sleep(random.random())\n",
    "\n",
    "\n",
    "if __name__ == '__main__':\n",
    "    proc1 = multiprocessing.Process(target=print_time())\n",
    "    proc2 = multiprocessing.Process(target=print_time())\n",
    "    proc3 = multiprocessing.Process(target=print_time())\n",
    "    proc1.start()\n",
    "    proc2.start()\n",
    "    proc3.start()\n",
    "    proc1.join()\n",
    "    proc2.join()\n",
    "    proc3.join()\n",
    "\n",
    "    print('Completed')\n",
    "\n"
   ]
  }
 ],
 "metadata": {
  "kernelspec": {
   "display_name": "Python 3 (ipykernel)",
   "language": "python",
   "name": "python3"
  },
  "language_info": {
   "codemirror_mode": {
    "name": "ipython",
    "version": 3
   },
   "file_extension": ".py",
   "mimetype": "text/x-python",
   "name": "python",
   "nbconvert_exporter": "python",
   "pygments_lexer": "ipython3",
   "version": "3.9.12"
  }
 },
 "nbformat": 4,
 "nbformat_minor": 5
}
